{
 "cells": [
  {
   "cell_type": "markdown",
   "id": "daa9505e-39f4-480b-81f0-70a4d34f6661",
   "metadata": {},
   "source": [
    "## Import"
   ]
  },
  {
   "cell_type": "code",
   "execution_count": 1,
   "id": "880e9d4a-da53-478e-b77d-c486f2954a8b",
   "metadata": {},
   "outputs": [],
   "source": [
    "from urllib.request import urlopen\n",
    "from bs4 import BeautifulSoup\n",
    "\n",
    "import scraptools.scrap_main as sm\n",
    "import scraptools.scrap_info as si\n",
    "import fptools.fptools as fp"
   ]
  },
  {
   "cell_type": "code",
   "execution_count": 2,
   "id": "f6afcc27-a3d9-4c45-b7cd-f3df8fb88e6d",
   "metadata": {},
   "outputs": [],
   "source": [
    "# inti get daft\n",
    "get_daft = sm.try_action(sm.init_get_app('lxml'))"
   ]
  },
  {
   "cell_type": "code",
   "execution_count": 3,
   "id": "59303809-9bec-4da4-bc25-4857f8004cf4",
   "metadata": {},
   "outputs": [],
   "source": [
    "# first access to page\n",
    "\n",
    "\n",
    "def run_get_ads_by_county(county):\n",
    "    url = sm.init_url(county)\n",
    "\n",
    "    daft = get_daft(url['base'], url['general_search'], url['county'], url['pages'])\n",
    "\n",
    "    limit = sm.get_calculated_limit(daft)\n",
    "\n",
    "    unflatten_data_ads_county= sm.init_get_adds_by_page(get_daft)(limit, county=county)\n",
    "\n",
    "    return sm.flatten_data_ads(unflatten_data_ads_county)\n",
    "\n"
   ]
  },
  {
   "cell_type": "code",
   "execution_count": 4,
   "id": "8cf28441-9de7-40ea-b897-43af73ab502e",
   "metadata": {},
   "outputs": [
    {
     "name": "stderr",
     "output_type": "stream",
     "text": [
      "100%|██████████| 20/20 [00:24<00:00,  1.22s/it]\n",
      "100%|██████████| 20/20 [00:25<00:00,  1.27s/it]\n",
      "100%|██████████| 20/20 [00:26<00:00,  1.31s/it]\n",
      "100%|██████████| 20/20 [00:26<00:00,  1.32s/it]\n",
      "100%|██████████| 20/20 [00:22<00:00,  1.11s/it]\n",
      "100%|██████████| 15/15 [00:16<00:00,  1.11s/it]\n",
      "0it [00:00, ?it/s]\n"
     ]
    }
   ],
   "source": [
    "data_ads_cork = run_get_ads_by_county('cork')"
   ]
  },
  {
   "cell_type": "code",
   "execution_count": 5,
   "id": "25431381-71d3-446d-8c29-9e8f42113f0a",
   "metadata": {},
   "outputs": [],
   "source": [
    "# data_ads_cork[23]"
   ]
  },
  {
   "cell_type": "code",
   "execution_count": 6,
   "id": "92de3704-196a-4c3a-9a09-f8e3760931d5",
   "metadata": {},
   "outputs": [],
   "source": [
    "# data_ads_dublin = run_get_ads_by_county('dublin')"
   ]
  },
  {
   "cell_type": "code",
   "execution_count": 7,
   "id": "83f95bfe-3213-4d66-a850-cce430d2ac9b",
   "metadata": {},
   "outputs": [],
   "source": [
    "# len(data_ads_dublin)"
   ]
  },
  {
   "cell_type": "code",
   "execution_count": 8,
   "id": "ae63969e-fa7b-4746-bc22-a7ed51e1d782",
   "metadata": {},
   "outputs": [],
   "source": [
    "# data_ads_dublin[-1]"
   ]
  },
  {
   "cell_type": "code",
   "execution_count": 9,
   "id": "fb14fd94-7faf-4e2a-b4c9-8ba2b606150c",
   "metadata": {},
   "outputs": [],
   "source": [
    "import pandas as pd\n",
    "cork_rent = pd.DataFrame(data_ads_cork)"
   ]
  },
  {
   "cell_type": "code",
   "execution_count": 10,
   "id": "eb6ad8de-c2d1-4d32-8ed7-5aa2726894bd",
   "metadata": {},
   "outputs": [
    {
     "data": {
      "text/html": [
       "<div>\n",
       "<style scoped>\n",
       "    .dataframe tbody tr th:only-of-type {\n",
       "        vertical-align: middle;\n",
       "    }\n",
       "\n",
       "    .dataframe tbody tr th {\n",
       "        vertical-align: top;\n",
       "    }\n",
       "\n",
       "    .dataframe thead th {\n",
       "        text-align: right;\n",
       "    }\n",
       "</style>\n",
       "<table border=\"1\" class=\"dataframe\">\n",
       "  <thead>\n",
       "    <tr style=\"text-align: right;\">\n",
       "      <th></th>\n",
       "      <th>id</th>\n",
       "      <th>Rent</th>\n",
       "      <th>Frequence</th>\n",
       "      <th>Address</th>\n",
       "      <th>Type</th>\n",
       "      <th>Facilities</th>\n",
       "      <th>Ber</th>\n",
       "      <th>Ber n</th>\n",
       "      <th>Author</th>\n",
       "      <th>Description</th>\n",
       "      <th>...</th>\n",
       "      <th>Created_at</th>\n",
       "      <th>Closed_at</th>\n",
       "      <th>Close</th>\n",
       "      <th>Double Bedroom</th>\n",
       "      <th>Single Bedroom</th>\n",
       "      <th>Bathroom</th>\n",
       "      <th>Furnished</th>\n",
       "      <th>Lease</th>\n",
       "      <th>lat</th>\n",
       "      <th>long</th>\n",
       "    </tr>\n",
       "  </thead>\n",
       "  <tbody>\n",
       "    <tr>\n",
       "      <th>0</th>\n",
       "      <td>26495328</td>\n",
       "      <td>2485</td>\n",
       "      <td>month</td>\n",
       "      <td>Apartment 105, The Elysian, Eglinton Road, Co....</td>\n",
       "      <td>Apartment</td>\n",
       "      <td>[Parking, Central Heating, Alarm, Cable Televi...</td>\n",
       "      <td>B2</td>\n",
       "      <td>NaN</td>\n",
       "      <td>The Elysian</td>\n",
       "      <td>Experience the luxury of living in this wonder...</td>\n",
       "      <td>...</td>\n",
       "      <td>2021-10-26</td>\n",
       "      <td>None</td>\n",
       "      <td>False</td>\n",
       "      <td>3</td>\n",
       "      <td>None</td>\n",
       "      <td>3</td>\n",
       "      <td>Yes</td>\n",
       "      <td>Minimum 1 Year</td>\n",
       "      <td>51.89638321328515</td>\n",
       "      <td>-8.465369666409304</td>\n",
       "    </tr>\n",
       "    <tr>\n",
       "      <th>1</th>\n",
       "      <td>25965075</td>\n",
       "      <td>3426</td>\n",
       "      <td>month</td>\n",
       "      <td>Apartment 178, The Elysian, Eglinton Road, Co....</td>\n",
       "      <td>Apartment</td>\n",
       "      <td>[Parking, Central Heating, Alarm, Cable Televi...</td>\n",
       "      <td>B2</td>\n",
       "      <td>NaN</td>\n",
       "      <td>The Elysian</td>\n",
       "      <td>Experience the luxury of living in this wonder...</td>\n",
       "      <td>...</td>\n",
       "      <td>2021-10-26</td>\n",
       "      <td>None</td>\n",
       "      <td>False</td>\n",
       "      <td>3</td>\n",
       "      <td>None</td>\n",
       "      <td>4</td>\n",
       "      <td>Yes</td>\n",
       "      <td>Minimum 1 Year</td>\n",
       "      <td>51.89638321328515</td>\n",
       "      <td>-8.465369666409304</td>\n",
       "    </tr>\n",
       "    <tr>\n",
       "      <th>2</th>\n",
       "      <td>22094451</td>\n",
       "      <td>2960</td>\n",
       "      <td>month</td>\n",
       "      <td>Marsh'sYard 3 Bedroom Apartment, Copley Street...</td>\n",
       "      <td>Apartment</td>\n",
       "      <td>[Parking, Central Heating, Washing Machine, Dr...</td>\n",
       "      <td>NA</td>\n",
       "      <td>NaN</td>\n",
       "      <td>Steelworks Reception</td>\n",
       "      <td>Luxury three bedroom apartment in the heart of...</td>\n",
       "      <td>...</td>\n",
       "      <td>2021-10-26</td>\n",
       "      <td>None</td>\n",
       "      <td>False</td>\n",
       "      <td>3</td>\n",
       "      <td>None</td>\n",
       "      <td>3</td>\n",
       "      <td>Yes</td>\n",
       "      <td>Minimum 6 Months</td>\n",
       "      <td>51.89510310892004</td>\n",
       "      <td>-8.46647241548439</td>\n",
       "    </tr>\n",
       "    <tr>\n",
       "      <th>3</th>\n",
       "      <td>26536465</td>\n",
       "      <td>3952</td>\n",
       "      <td>month</td>\n",
       "      <td>MY 4 Bedroom Apartment, Copley Street, Copley ...</td>\n",
       "      <td>Apartment</td>\n",
       "      <td>[Parking, Central Heating, Washing Machine, Dr...</td>\n",
       "      <td>NA</td>\n",
       "      <td>NaN</td>\n",
       "      <td>Steelworks Reception</td>\n",
       "      <td>Ideally located in Cork City Centre this 4 bed...</td>\n",
       "      <td>...</td>\n",
       "      <td>2021-10-26</td>\n",
       "      <td>None</td>\n",
       "      <td>False</td>\n",
       "      <td>3</td>\n",
       "      <td>1</td>\n",
       "      <td>4</td>\n",
       "      <td>Yes</td>\n",
       "      <td>Minimum 6 Months</td>\n",
       "      <td>51.89510310892004</td>\n",
       "      <td>-8.46647241548439</td>\n",
       "    </tr>\n",
       "    <tr>\n",
       "      <th>4</th>\n",
       "      <td>26638039</td>\n",
       "      <td>2200</td>\n",
       "      <td>month</td>\n",
       "      <td>Knockduff House Gate Lodge, Kinsale, Co. Cork</td>\n",
       "      <td>House</td>\n",
       "      <td>[Parking, Central Heating, Alarm, Cable Televi...</td>\n",
       "      <td>A2</td>\n",
       "      <td>NaN</td>\n",
       "      <td>Mareta Doyle</td>\n",
       "      <td>Beautifully renovated and extended Gate Lodge ...</td>\n",
       "      <td>...</td>\n",
       "      <td>2021-10-26</td>\n",
       "      <td>None</td>\n",
       "      <td>False</td>\n",
       "      <td>1</td>\n",
       "      <td>None</td>\n",
       "      <td>2</td>\n",
       "      <td>Yes</td>\n",
       "      <td>Minimum 9 Months</td>\n",
       "      <td>51.70127252296622</td>\n",
       "      <td>-8.47764790099177</td>\n",
       "    </tr>\n",
       "  </tbody>\n",
       "</table>\n",
       "<p>5 rows × 21 columns</p>\n",
       "</div>"
      ],
      "text/plain": [
       "         id  Rent Frequence  \\\n",
       "0  26495328  2485     month   \n",
       "1  25965075  3426     month   \n",
       "2  22094451  2960     month   \n",
       "3  26536465  3952     month   \n",
       "4  26638039  2200     month   \n",
       "\n",
       "                                             Address       Type  \\\n",
       "0  Apartment 105, The Elysian, Eglinton Road, Co....  Apartment   \n",
       "1  Apartment 178, The Elysian, Eglinton Road, Co....  Apartment   \n",
       "2  Marsh'sYard 3 Bedroom Apartment, Copley Street...  Apartment   \n",
       "3  MY 4 Bedroom Apartment, Copley Street, Copley ...  Apartment   \n",
       "4      Knockduff House Gate Lodge, Kinsale, Co. Cork      House   \n",
       "\n",
       "                                          Facilities Ber Ber n  \\\n",
       "0  [Parking, Central Heating, Alarm, Cable Televi...  B2   NaN   \n",
       "1  [Parking, Central Heating, Alarm, Cable Televi...  B2   NaN   \n",
       "2  [Parking, Central Heating, Washing Machine, Dr...  NA   NaN   \n",
       "3  [Parking, Central Heating, Washing Machine, Dr...  NA   NaN   \n",
       "4  [Parking, Central Heating, Alarm, Cable Televi...  A2   NaN   \n",
       "\n",
       "                 Author                                        Description  \\\n",
       "0           The Elysian  Experience the luxury of living in this wonder...   \n",
       "1           The Elysian  Experience the luxury of living in this wonder...   \n",
       "2  Steelworks Reception  Luxury three bedroom apartment in the heart of...   \n",
       "3  Steelworks Reception  Ideally located in Cork City Centre this 4 bed...   \n",
       "4          Mareta Doyle  Beautifully renovated and extended Gate Lodge ...   \n",
       "\n",
       "   ...  Created_at Closed_at  Close  Double Bedroom Single Bedroom Bathroom  \\\n",
       "0  ...  2021-10-26      None  False               3           None        3   \n",
       "1  ...  2021-10-26      None  False               3           None        4   \n",
       "2  ...  2021-10-26      None  False               3           None        3   \n",
       "3  ...  2021-10-26      None  False               3              1        4   \n",
       "4  ...  2021-10-26      None  False               1           None        2   \n",
       "\n",
       "  Furnished             Lease                lat                long  \n",
       "0       Yes    Minimum 1 Year  51.89638321328515  -8.465369666409304  \n",
       "1       Yes    Minimum 1 Year  51.89638321328515  -8.465369666409304  \n",
       "2       Yes  Minimum 6 Months  51.89510310892004   -8.46647241548439  \n",
       "3       Yes  Minimum 6 Months  51.89510310892004   -8.46647241548439  \n",
       "4       Yes  Minimum 9 Months  51.70127252296622   -8.47764790099177  \n",
       "\n",
       "[5 rows x 21 columns]"
      ]
     },
     "execution_count": 10,
     "metadata": {},
     "output_type": "execute_result"
    }
   ],
   "source": [
    "cork_rent.head()"
   ]
  },
  {
   "cell_type": "code",
   "execution_count": 29,
   "id": "b323aa73-a26d-442c-a7ab-6503c6775d58",
   "metadata": {},
   "outputs": [],
   "source": [
    "cork_rent['Rent'] = pd.to_numeric(cork_rent['Rent'])"
   ]
  },
  {
   "cell_type": "code",
   "execution_count": 30,
   "id": "c57df27f-34c1-45f0-b35d-1ef036eb3122",
   "metadata": {},
   "outputs": [],
   "source": [
    "# cork_base = cork_rent[['id', 'Rent', 'Frequence', 'Address', 'Type', 'Ber', 'Ber n', 'Double Bedroom', 'Single Bedroom', 'Bathroom', 'Lease', 'Furnished']]"
   ]
  },
  {
   "cell_type": "code",
   "execution_count": 38,
   "id": "92232318-7136-43dd-950e-744ad085e982",
   "metadata": {},
   "outputs": [
    {
     "name": "stdout",
     "output_type": "stream",
     "text": [
      "('id', 1)\n",
      "('name', 'Alfred')\n",
      "('child', {'Louis', 'Paul'})\n",
      "('Houses', {'Paris', 'Milan', 'Amsterdam'})\n"
     ]
    }
   ],
   "source": [
    "dic_tes={\n",
    "    'id':1,\n",
    "    'name':'Alfred',\n",
    "    'child':{'Paul', 'Louis'},\n",
    "    'Houses':{'Paris', 'Milan', 'Amsterdam'}}\n",
    "\n",
    "for i in dic_tes.items():\n",
    "    print(i)\n"
   ]
  },
  {
   "cell_type": "code",
   "execution_count": null,
   "id": "33fa6388-fb14-458f-bff5-c8d38a8fea92",
   "metadata": {},
   "outputs": [],
   "source": []
  }
 ],
 "metadata": {
  "interpreter": {
   "hash": "a8dabe93d1e9603fb3305823fb7fe5f85174991eb45596faf6159e95038bf36f"
  },
  "kernelspec": {
   "display_name": "Python 3",
   "language": "python",
   "name": "python3"
  },
  "language_info": {
   "codemirror_mode": {
    "name": "ipython",
    "version": 3
   },
   "file_extension": ".py",
   "mimetype": "text/x-python",
   "name": "python",
   "nbconvert_exporter": "python",
   "pygments_lexer": "ipython3",
   "version": "3.9.4"
  }
 },
 "nbformat": 4,
 "nbformat_minor": 5
}
