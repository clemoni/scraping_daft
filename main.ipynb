{
 "cells": [
  {
   "cell_type": "markdown",
   "id": "daa9505e-39f4-480b-81f0-70a4d34f6661",
   "metadata": {},
   "source": [
    "## Import"
   ]
  },
  {
   "cell_type": "code",
   "execution_count": 1,
   "id": "880e9d4a-da53-478e-b77d-c486f2954a8b",
   "metadata": {},
   "outputs": [],
   "source": [
    "from urllib.request import urlopen\n",
    "from bs4 import BeautifulSoup\n",
    "\n",
    "import scraptools.scrap_main as sc\n",
    "import scraptools.scrap_info as si"
   ]
  },
  {
   "cell_type": "code",
   "execution_count": null,
   "id": "59303809-9bec-4da4-bc25-4857f8004cf4",
   "metadata": {},
   "outputs": [],
   "source": [
    "url = sc.init_url('cork')\n",
    "get_app = sc.init_get_app('lxml')\n",
    "get_daft = sc.try_action(get_app)\n",
    "daft = get_daft(url['base'], url['general_search'], url['county'], url['pages'])\n"
   ]
  },
  {
   "cell_type": "code",
   "execution_count": 4,
   "id": "750810f5",
   "metadata": {},
   "outputs": [
    {
     "name": "stdout",
     "output_type": "stream",
     "text": [
      "Lucia Connor\n"
     ]
    }
   ],
   "source": [
    "ads = sc.extract_ads(daft)\n",
    "import re\n",
    "\n",
    "for i, ad in enumerate(ads):\n",
    "    if i==8:\n",
    "        if sub:= sc.get_sub(ad):\n",
    "            sub_ads = sc.if_sub_get_lis(sub)\n",
    "            for sub_ad in sub_ads:\n",
    "                si.get_ad_id(ad)\n",
    "                print('_')\n",
    "        else:\n",
    "            # if i==4:\n",
    "            ad_href=ad.a['href']\n",
    "            ad_o = get_daft(url['base'], ad_href)\n",
    "            # print(sc.extract_overview(ad_o))\n",
    "            print(si.get_ad_author(ad_o))\n",
    "\n",
    "    \n",
    "               "
   ]
  },
  {
   "cell_type": "code",
   "execution_count": null,
   "id": "972d7ffc",
   "metadata": {},
   "outputs": [],
   "source": []
  }
 ],
 "metadata": {
  "interpreter": {
   "hash": "a8dabe93d1e9603fb3305823fb7fe5f85174991eb45596faf6159e95038bf36f"
  },
  "kernelspec": {
   "display_name": "Python 3.10.0 64-bit ('daft': conda)",
   "name": "python3"
  },
  "language_info": {
   "codemirror_mode": {
    "name": "ipython",
    "version": 3
   },
   "file_extension": ".py",
   "mimetype": "text/x-python",
   "name": "python",
   "nbconvert_exporter": "python",
   "pygments_lexer": "ipython3",
   "version": "3.10.0"
  }
 },
 "nbformat": 4,
 "nbformat_minor": 5
}
